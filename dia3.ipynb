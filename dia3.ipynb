{
 "cells": [
  {
   "cell_type": "code",
   "execution_count": 4,
   "metadata": {},
   "outputs": [
    {
     "name": "stdout",
     "output_type": "stream",
     "text": [
      "Hola mundo\n"
     ]
    }
   ],
   "source": [
    "def imprimir_saludos():\n",
    "    print(\"Hola mundo\")\n",
    "\n",
    "imprimir_saludos()"
   ]
  },
  {
   "cell_type": "markdown",
   "metadata": {},
   "source": [
    "## Challenge 1 🤺 - 15m\n",
    "\n",
    "Crear una función que imprima la variable palabra."
   ]
  },
  {
   "cell_type": "markdown",
   "metadata": {},
   "source": [
    "Solucion de An"
   ]
  },
  {
   "cell_type": "code",
   "execution_count": 5,
   "metadata": {},
   "outputs": [
    {
     "name": "stdout",
     "output_type": "stream",
     "text": [
      "Palabra\n"
     ]
    }
   ],
   "source": [
    "tengo_que_imprimir = \"Palabra\"\n",
    "\n",
    "def imprimir(tengo_que_imprimir):\n",
    "    print(tengo_que_imprimir)\n",
    "    \n",
    "imprimir(tengo_que_imprimir)"
   ]
  },
  {
   "cell_type": "code",
   "execution_count": 10,
   "metadata": {},
   "outputs": [
    {
     "name": "stdout",
     "output_type": "stream",
     "text": [
      "5\n"
     ]
    }
   ],
   "source": [
    "def sumar_numeros(numero1, numero2):\n",
    "    sumar = numero1 + numero2\n",
    "    print(sumar)\n",
    "\n",
    "sumar_numeros(2, 3) #Argumentos "
   ]
  },
  {
   "cell_type": "markdown",
   "metadata": {},
   "source": [
    "## Challenge 2 🤺 - 15 min\n",
    "Crear una función que reciba dos letras (parámetros) y que verifique si son iguales:\n",
    "\n",
    "1. Si son iguales, imprimir \"Las letras son iguales\".\n",
    "\n",
    "2. De lo contrario, imprimir \"Las letras son diferentes\"."
   ]
  },
  {
   "cell_type": "markdown",
   "metadata": {},
   "source": [
    "Solucion de Alvaro"
   ]
  },
  {
   "cell_type": "code",
   "execution_count": 11,
   "metadata": {},
   "outputs": [
    {
     "name": "stdout",
     "output_type": "stream",
     "text": [
      "Las letras son diferentes (a != b)\n",
      "Las letras son iguales (a == a)\n"
     ]
    }
   ],
   "source": [
    "def consulta_letras (letra1, letra2):\n",
    "    if letra1 == letra2:\n",
    "        print(f'Las letras son iguales ({letra1} == {letra2})')\n",
    "    else:\n",
    "        print(f'Las letras son diferentes ({letra1} != {letra2})')\n",
    "\n",
    "letra1 = input('Ingrese primera letra')\n",
    "letra2 = input('Ingrese segunda letra')\n",
    "\n",
    "consulta_letras('a', 'b')\n",
    "consulta_letras (letra1, letra2)"
   ]
  },
  {
   "cell_type": "markdown",
   "metadata": {},
   "source": [
    "Solucion de Jose 🥵​"
   ]
  },
  {
   "cell_type": "code",
   "execution_count": 12,
   "metadata": {},
   "outputs": [
    {
     "name": "stdout",
     "output_type": "stream",
     "text": [
      "Las letras son diferentes\n"
     ]
    }
   ],
   "source": [
    "def escribir_dos_letras(letra1 = input(\"Introducir la letra 1\"), letra2 = input(\"Introducir la letra 2\")):\n",
    "\n",
    "        if letra1 != letra2:\n",
    "              print(\"Las letras son diferentes\")\n",
    "        else:\n",
    "             print(\"Las letras son iguales\")\n",
    "\n",
    "escribir_dos_letras()"
   ]
  },
  {
   "cell_type": "code",
   "execution_count": 14,
   "metadata": {},
   "outputs": [
    {
     "data": {
      "text/plain": [
       "'las palabras son diferentes'"
      ]
     },
     "execution_count": 14,
     "metadata": {},
     "output_type": "execute_result"
    }
   ],
   "source": [
    "def verificar_si_la_palabra_coinciden(palabra_a_encontrar, palabra_ingresada):\n",
    "\n",
    "    palabras_son_iguales = palabra_a_encontrar == palabra_ingresada\n",
    "\n",
    "    if palabras_son_iguales:\n",
    "        return 'las palabras son iguales'\n",
    "    \n",
    "    else:\n",
    "        return 'las palabras son diferentes'\n",
    "\n",
    "verificar_si_la_palabra_coinciden(\"perro\", \"gato\")"
   ]
  },
  {
   "cell_type": "code",
   "execution_count": 23,
   "metadata": {},
   "outputs": [
    {
     "name": "stdout",
     "output_type": "stream",
     "text": [
      "2\n",
      "2\n"
     ]
    },
    {
     "ename": "TypeError",
     "evalue": "unsupported operand type(s) for +: 'int' and 'NoneType'",
     "output_type": "error",
     "traceback": [
      "\u001b[0;31m---------------------------------------------------------------------------\u001b[0m",
      "\u001b[0;31mTypeError\u001b[0m                                 Traceback (most recent call last)",
      "\u001b[1;32m/home/penguin/Escritorio/bootcamp_20/dia3.ipynb Cell 12\u001b[0m line \u001b[0;36m1\n\u001b[1;32m      <a href='vscode-notebook-cell:/home/penguin/Escritorio/bootcamp_20/dia3.ipynb#X22sZmlsZQ%3D%3D?line=5'>6</a>\u001b[0m suma()\n\u001b[1;32m      <a href='vscode-notebook-cell:/home/penguin/Escritorio/bootcamp_20/dia3.ipynb#X22sZmlsZQ%3D%3D?line=7'>8</a>\u001b[0m resultado \u001b[39m=\u001b[39m suma()\n\u001b[0;32m---> <a href='vscode-notebook-cell:/home/penguin/Escritorio/bootcamp_20/dia3.ipynb#X22sZmlsZQ%3D%3D?line=9'>10</a>\u001b[0m volver_a_sumar \u001b[39m=\u001b[39m \u001b[39m2\u001b[39;49m \u001b[39m+\u001b[39;49m resultado\n\u001b[1;32m     <a href='vscode-notebook-cell:/home/penguin/Escritorio/bootcamp_20/dia3.ipynb#X22sZmlsZQ%3D%3D?line=11'>12</a>\u001b[0m \u001b[39mprint\u001b[39m(volver_a_sumar)\n",
      "\u001b[0;31mTypeError\u001b[0m: unsupported operand type(s) for +: 'int' and 'NoneType'"
     ]
    }
   ],
   "source": [
    "def suma ():\n",
    "    sumar = 1 + 1\n",
    "\n",
    "    print(sumar)\n",
    "\n",
    "suma()\n",
    "\n",
    "resultado = suma()\n",
    "\n",
    "volver_a_sumar = 2 + resultado\n",
    "\n",
    "print(volver_a_sumar)"
   ]
  },
  {
   "cell_type": "code",
   "execution_count": 24,
   "metadata": {},
   "outputs": [
    {
     "name": "stdout",
     "output_type": "stream",
     "text": [
      "La suma es: 12\n",
      "Resultado de suma_y_muestra: None\n",
      "Resultado de suma_y_retorna: 11\n"
     ]
    }
   ],
   "source": [
    "def suma_y_muestra(a, b):\n",
    "    resultado = a + b\n",
    "    print(f\"La suma es: {resultado}\")\n",
    "\n",
    "def suma_y_retorna(a, b):\n",
    "    resultado = a + b\n",
    "    return resultado\n",
    "\n",
    "#Uso de la función con print\n",
    "suma_y_muestra_resultado = suma_y_muestra(5, 7)\n",
    "\n",
    "#Uso de la función con return\n",
    "suma_y_retorna_resultado = suma_y_retorna(3, 8)\n",
    "\n",
    "#Ahora imprimimos los resultados\n",
    "print(\"Resultado de suma_y_muestra:\", suma_y_muestra_resultado)\n",
    "print(\"Resultado de suma_y_retorna:\", suma_y_retorna_resultado)"
   ]
  },
  {
   "cell_type": "markdown",
   "metadata": {},
   "source": [
    "## Challenge 3 🤺 - 15m\n",
    "\n",
    "Crear una función que reciba dos parámetros (una palabra y un número), y que retorne `True` si el número es igual a la cantidad de letras de la palabra. En caso contrario, que retorne `False`.\n",
    "\n",
    "Pista: `cantidad de letras de una palabra en python`"
   ]
  },
  {
   "cell_type": "markdown",
   "metadata": {},
   "source": [
    "Solucion Carlos 💯​"
   ]
  },
  {
   "cell_type": "code",
   "execution_count": 31,
   "metadata": {},
   "outputs": [],
   "source": [
    "def cantidad_caracteres (palabra, numero):\n",
    "   \n",
    "    palabra = input(\"Escriba palabra: \")\n",
    "    numero = int(input(\"Escriba un número\"))\n",
    "    \n",
    "    if numero == len(palabra):\n",
    "        return True\n",
    "        \n",
    "    \n",
    "    else:\n",
    "        return False\n",
    "\n",
    "\n",
    "palabra = input(\"Escriba palabra: \")\n",
    "numero = int(input(\"Escriba un número\"))\n"
   ]
  },
  {
   "cell_type": "code",
   "execution_count": 33,
   "metadata": {},
   "outputs": [
    {
     "data": {
      "text/plain": [
       "True"
      ]
     },
     "execution_count": 33,
     "metadata": {},
     "output_type": "execute_result"
    }
   ],
   "source": [
    "\n",
    "\n",
    "cantidad_caracteres(palabra,numero)\n"
   ]
  },
  {
   "cell_type": "markdown",
   "metadata": {},
   "source": [
    "Solucion de Cesar 🥴"
   ]
  },
  {
   "cell_type": "code",
   "execution_count": 28,
   "metadata": {},
   "outputs": [
    {
     "data": {
      "text/plain": [
       "'true'"
      ]
     },
     "execution_count": 28,
     "metadata": {},
     "output_type": "execute_result"
    }
   ],
   "source": [
    "def palabra_y_numero(palabra, numero):\n",
    "\n",
    "    if len(palabra) == numero:\n",
    "\n",
    "        return True\n",
    "\n",
    "    else:\n",
    "        return False\n",
    "\n",
    "palabra_y_numero(\"hola\",4) \n"
   ]
  },
  {
   "cell_type": "markdown",
   "metadata": {},
   "source": [
    "## Challenge 4 🤺 - 20 min\n",
    "Crear función que revise si una palabra contiene una letra. En caso de que la contenga, retornar la letra entre corchetes `[]`. De lo contrario, retornar solo la letra."
   ]
  },
  {
   "cell_type": "markdown",
   "metadata": {},
   "source": [
    "## Operador de PERTENENCIA\n",
    "- IN = Devuelte TRUE si un valor esta presente en la secuencia y FALSE si no esta.\n"
   ]
  },
  {
   "cell_type": "markdown",
   "metadata": {},
   "source": [
    "Solucion de Derlis 🔥​"
   ]
  },
  {
   "cell_type": "code",
   "execution_count": 39,
   "metadata": {},
   "outputs": [
    {
     "data": {
      "text/plain": [
       "'[a]'"
      ]
     },
     "execution_count": 39,
     "metadata": {},
     "output_type": "execute_result"
    }
   ],
   "source": [
    "def revisar (letra, palabra):\n",
    " \n",
    "    if letra in palabra:\n",
    "        \n",
    "        return \"[\" + letra + \"]\"\n",
    "    \n",
    "    else:\n",
    "        return letra\n",
    "\n",
    "revisar(\"a\",\"arbol\")"
   ]
  },
  {
   "cell_type": "markdown",
   "metadata": {},
   "source": [
    "Solucion de Tadeo 😊​"
   ]
  },
  {
   "cell_type": "code",
   "execution_count": 37,
   "metadata": {},
   "outputs": [
    {
     "data": {
      "text/plain": [
       "['t']"
      ]
     },
     "execution_count": 37,
     "metadata": {},
     "output_type": "execute_result"
    }
   ],
   "source": [
    "def revise_la_palabra(palabra, letra):\n",
    "\n",
    "    if letra_ingresada in palabra : #Que si la letra esta en la palabra retorne la letra\n",
    "        \n",
    "        return [letra_ingresada]\n",
    "   \n",
    "    else:   \n",
    "                               #Sino esta renortar la letra que escribi\n",
    "        return letra_ingresada\n",
    "\n",
    "\n",
    "letra_ingresada = \"t\"\n",
    "palabra = \"Rata\"\n",
    "\n",
    "revise_la_palabra(palabra, letra_ingresada)"
   ]
  },
  {
   "cell_type": "code",
   "execution_count": 41,
   "metadata": {},
   "outputs": [
    {
     "name": "stdout",
     "output_type": "stream",
     "text": [
      "audio\n",
      "arbol\n",
      "['a', 'u', 'd', 'i', 'o']\n",
      "['a', 'r', 'b', 'o', 'l']\n"
     ]
    }
   ],
   "source": [
    "palabra_a_encontrar = input(\"Ingrese una palabra: \")\n",
    "print(palabra_a_encontrar)\n",
    "\n",
    "palabra_ingresada = input(\"Ingrese otra palabra\")\n",
    "print(palabra_ingresada)\n",
    "\n",
    "lista_de_letras_de_la_palabra_a_encontrar = list(palabra_a_encontrar)\n",
    "print(lista_de_letras_de_la_palabra_a_encontrar)\n",
    "\n",
    "lista_de_letras_de_la_palabra_ingresada = list(palabra_ingresada)\n",
    "print(lista_de_letras_de_la_palabra_ingresada)"
   ]
  },
  {
   "cell_type": "markdown",
   "metadata": {},
   "source": [
    "## Challenge 5 🤺 - 20m\n",
    "\n",
    "Pedir al usuario que ingrese 1 palabra, luego convertir esa palabra a una lista con sus caracteres con `list()`. Agregar esa lista de caracteres a una lista llamada `palabras_ingresadas`. Repetir el proceso 3 veces. Cada vez que se agregue una lista de caracteres, imprimir la lista `palabras_ingresadas`.\n",
    "\n",
    "\n",
    "Ejemplo del resultado esperado:\n",
    "\n",
    "```[['c', 'i', 'e', 'l', 'o']]``` # Al ingresar la primera palabra\n",
    "\n",
    "```[['c', 'i', 'e', 'l', 'o'], ['c', 'a', 'l', 'o', 'r']]``` # Al ingresar la segunda palabra\n",
    "\n",
    "```[['c', 'i', 'e', 'l', 'o'], ['c', 'a', 'l', 'o', 'r'], ['n', 'u', 'b', 'e', 's']]``` # Al ingresar la tercera palabra"
   ]
  },
  {
   "cell_type": "markdown",
   "metadata": {},
   "source": [
    "Solucion Bruno 🖤​"
   ]
  },
  {
   "cell_type": "code",
   "execution_count": 44,
   "metadata": {},
   "outputs": [
    {
     "name": "stdout",
     "output_type": "stream",
     "text": [
      "['h', 'o', 'l']\n",
      "['h', 'o', 'l'] ['G', 'O', 'L']\n",
      "['h', 'o', 'l'] ['G', 'O', 'L'] ['K', 'U', 'I', 'A']\n",
      "[['h', 'o', 'l'], ['G', 'O', 'L'], ['K', 'U', 'I', 'A']]\n",
      "Esta es tu lista de palabras ingresadas: [['h', 'o', 'l'], ['G', 'O', 'L'], ['K', 'U', 'I', 'A']]\n"
     ]
    }
   ],
   "source": [
    "palabra = input(\"Por favor,ingresa una palabra:\")\n",
    "lista_letras = list(palabra)\n",
    "print(lista_letras)\n",
    "palabra2 = input(\"Por favor, ingresa otra palabra:\")\n",
    "lista_letras2 = list(palabra2)\n",
    "print(lista_letras, lista_letras2)\n",
    "palabra3 = input(\"Una vez mas, ingresa otra palabra:\")\n",
    "lista_letras3 = list(palabra3)\n",
    "print(lista_letras,lista_letras2,lista_letras3)\n",
    "\n",
    "lista_palabras_ingresadas = [lista_letras, lista_letras2, lista_letras3]\n",
    "print(lista_palabras_ingresadas)\n",
    "print(f\"Esta es tu lista de palabras ingresadas: {lista_palabras_ingresadas}\")"
   ]
  },
  {
   "cell_type": "markdown",
   "metadata": {},
   "source": [
    "Solucion de Lia 🤑​"
   ]
  },
  {
   "cell_type": "code",
   "execution_count": 45,
   "metadata": {},
   "outputs": [
    {
     "name": "stdout",
     "output_type": "stream",
     "text": [
      "[[['h', 'o', 'l', 'a']]]\n",
      "[[['h', 'o', 'l', 'a'], ['c', 'o', 'm', 'o', ' ']]]\n",
      "[[['h', 'o', 'l', 'a'], ['c', 'o', 'm', 'o', ' '], ['e', 's', 't', 'a', 's']]]\n"
     ]
    }
   ],
   "source": [
    "lista_de_palabras = []\n",
    "\n",
    "palabra1 = input('ingresa una palabra')\n",
    "lista1 = list(palabra1)\n",
    "lista_de_palabras.append(lista1)\n",
    "print([lista_de_palabras])\n",
    "\n",
    "palabra2 = input('ingresa una palabra')\n",
    "lista2 = list(palabra2)\n",
    "lista_de_palabras.append(lista2)\n",
    "print([lista_de_palabras])\n",
    "\n",
    "palabra3 = input('ingresa una palabra')\n",
    "lista3 = list(palabra3)\n",
    "lista_de_palabras.append(lista3)\n",
    "print([lista_de_palabras])"
   ]
  },
  {
   "cell_type": "code",
   "execution_count": 49,
   "metadata": {},
   "outputs": [
    {
     "name": "stdout",
     "output_type": "stream",
     "text": [
      "[[]]\n"
     ]
    }
   ],
   "source": [
    "palabras_ingresadas = []\n",
    "\n",
    "for i in range(3):\n",
    "    \n",
    "    palabra = input(\"Ingrese una palabra\")\n",
    "\n",
    "    lista_palabra = list(palabra)\n",
    "\n",
    "    palabras_ingresadas.append(lista_palabra)\n",
    "\n",
    "    print(palabras_ingresadas)\n"
   ]
  },
  {
   "cell_type": "markdown",
   "metadata": {},
   "source": [
    "- Crear una lista vacía `letras_verificadas` para las letras de la palabra luego de ser verificada\n",
    "- Definir la cantidad de letras de la palabra a encontrar\n",
    "- Si las letras existen en la palabra a encontrar y sus posiciones coinciden: encerrar en corchetes `[]` y agregar al resultado\n",
    "- Si las letras existen en la palabra a encontrar pero sus posiciones no coinciden: encerrar en parentesis `()` y agregar al resultado\n",
    "- Si no se cumple ninguna de las anteriores, agregar la letra a la lista vacía sin modificaciones\n",
    "- Retornar el resultado"
   ]
  },
  {
   "cell_type": "code",
   "execution_count": 8,
   "metadata": {},
   "outputs": [],
   "source": [
    "def obtener_fila_verificada(palabra_a_encontrar, palabra_ingresada):\n",
    "    \n",
    "    cantidad_de_letras_de_palabra_a_encontrar = 5\n",
    "\n",
    "    letras_verificadas = []\n",
    "\n",
    "    #Iteramos por cada letra de la palabra ingresada\n",
    "    for posicion in range(cantidad_de_letras_de_palabra_a_encontrar):\n",
    "\n",
    "        las_letras_son_iguales = palabra_a_encontrar[posicion] == palabra_ingresada[posicion]   \n",
    "\n",
    "        \n",
    "        la_letra_existe_en_la_palabra = palabra_ingresada[posicion] in palabra_a_encontrar\n",
    "\n",
    "        if las_letras_son_iguales:\n",
    "\n",
    "            letras_verificadas.append(\"[\" + palabra_ingresada[posicion] + \"]\")\n",
    "\n",
    "        \n",
    "        elif la_letra_existe_en_la_palabra:\n",
    "\n",
    "            letras_verificadas.append(\"(\" + palabra_ingresada[posicion] + \")\")\n",
    "        \n",
    "        else:\n",
    "            letras_verificadas.append(palabra_ingresada[posicion])\n",
    "\n",
    "    \n",
    "    return letras_verificadas\n"
   ]
  },
  {
   "cell_type": "code",
   "execution_count": 9,
   "metadata": {},
   "outputs": [
    {
     "data": {
      "text/plain": [
       "['c', '(a)', '(r)', '[o]', '[l]']"
      ]
     },
     "execution_count": 9,
     "metadata": {},
     "output_type": "execute_result"
    }
   ],
   "source": [
    "obtener_fila_verificada(\"arbol\",\"carol\")"
   ]
  },
  {
   "cell_type": "code",
   "execution_count": 11,
   "metadata": {},
   "outputs": [
    {
     "name": "stdout",
     "output_type": "stream",
     "text": [
      "['c', '(a)', '(r)', '[o]', '[l]']\n"
     ]
    }
   ],
   "source": [
    "palabra_a_encontrar = \"arbol\"\n",
    "\n",
    "palabra_ingresada = input(\"Ingrese una palabra\")\n",
    "\n",
    "linea_verificada = obtener_fila_verificada(palabra_a_encontrar, palabra_ingresada)\n",
    "\n",
    "print(linea_verificada)"
   ]
  },
  {
   "cell_type": "markdown",
   "metadata": {},
   "source": [
    "## Challenge 6 🤺 - 20m\n",
    "\n",
    "Dada la lista de ejemplo: \n",
    "\n",
    "lista = [['h', 'o', 'l', 'i', 's'], ['h', 'e', 'l', 'l', 'o'], ['h', 'a', 'l', 'l', 'o']]\n",
    "\n",
    "Crear una función que imprima una grilla (lista de listas), una línea por cada lista dentro de la lista principal.\n",
    "\n",
    "Ejemplo del resultado esperado:\n",
    "\n",
    "```\n",
    "['h', 'o', 'l', 'i', 's']\n",
    "['h', 'e', 'l', 'l', 'o']\n",
    "['h', 'a', 'l', 'l', 'o']\n",
    "```"
   ]
  },
  {
   "cell_type": "markdown",
   "metadata": {},
   "source": [
    "Solucion Gabriela 🥸"
   ]
  },
  {
   "cell_type": "code",
   "execution_count": 14,
   "metadata": {},
   "outputs": [
    {
     "name": "stdout",
     "output_type": "stream",
     "text": [
      "['h', 'o', 'l', 'i', 's']\n",
      "['h', 'e', 'l', 'l', 'o']\n",
      "['h', 'a', 'l', 'l', 'o']\n"
     ]
    }
   ],
   "source": [
    "lista = [['h', 'o', 'l', 'i', 's'], ['h', 'e', 'l', 'l', 'o'], ['h', 'a', 'l', 'l', 'o']]\n",
    "\n",
    "def imprimir_grilla():\n",
    "\n",
    "    for palabra in lista:\n",
    "        print (palabra)\n",
    "\n",
    "imprimir_grilla()"
   ]
  },
  {
   "cell_type": "code",
   "execution_count": 15,
   "metadata": {},
   "outputs": [
    {
     "name": "stdout",
     "output_type": "stream",
     "text": [
      "Te quedan 3 intentos\n",
      "hola\n",
      "Te quedan 2 intentos\n",
      "como\n",
      "Te quedan 1 intentos\n",
      "estan\n",
      "Ya no te quedan intentos, siga participando\n"
     ]
    }
   ],
   "source": [
    "intentos = 3\n",
    "\n",
    "while intentos > 0:\n",
    "    \n",
    "    print(f\"Te quedan {intentos} intentos\")\n",
    "\n",
    "    palabra = input(\"Ingrese una palabra\")\n",
    "\n",
    "    intentos = intentos - 1\n",
    "    \n",
    "    print(palabra)\n",
    "\n",
    "print(\"Ya no te quedan intentos, siga participando\")"
   ]
  }
 ],
 "metadata": {
  "kernelspec": {
   "display_name": "Python 3",
   "language": "python",
   "name": "python3"
  },
  "language_info": {
   "codemirror_mode": {
    "name": "ipython",
    "version": 3
   },
   "file_extension": ".py",
   "mimetype": "text/x-python",
   "name": "python",
   "nbconvert_exporter": "python",
   "pygments_lexer": "ipython3",
   "version": "3.11.6"
  }
 },
 "nbformat": 4,
 "nbformat_minor": 2
}
