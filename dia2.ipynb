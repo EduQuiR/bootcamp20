{
 "cells": [
  {
   "cell_type": "code",
   "execution_count": 1,
   "metadata": {},
   "outputs": [
    {
     "name": "stdout",
     "output_type": "stream",
     "text": [
      "23.38868655818771\n"
     ]
    }
   ],
   "source": [
    "def calcular_imc(peso, altura):\n",
    "    imc = peso/(altura * altura) #Variable local\n",
    "    print(imc)\n",
    "\n",
    "peso = 70 #Variable global\n",
    "altura = 1.73 #Variable\n",
    "\n",
    "imc = peso/(altura * altura) #Variable global\n",
    "\n",
    "print(imc)\n"
   ]
  },
  {
   "cell_type": "markdown",
   "metadata": {},
   "source": [
    "## Challenge 🤺 - 15m\n",
    "\n",
    "Escribir una funcion que nos pregunte las caracteriticas de un elemento a comprar e imprima el elemento con sus caracteristicas."
   ]
  },
  {
   "cell_type": "markdown",
   "metadata": {},
   "source": [
    "solucion de Joel"
   ]
  },
  {
   "cell_type": "code",
   "execution_count": 2,
   "metadata": {},
   "outputs": [
    {
     "name": "stdout",
     "output_type": "stream",
     "text": [
      "Que disfrute su helado de 1 kilogramo/s de Americana con Frutilla :)\n"
     ]
    }
   ],
   "source": [
    "def sabor_de_helado(kilogramos, sabor1 , sabor2):\n",
    "    print(f\"Que disfrute su helado de {kilogramos} kilogramo/s de {sabor1} con {sabor2} :)\")\n",
    "\n",
    "kilo = input(\"De cuantos Kg quiere su helado?\")\n",
    "sab1 = input(\"Elija el sabor de helado\")\n",
    "sab2 = input(\"Elija el sabor de helado\")\n",
    "\n",
    "sabor_de_helado(kilo,sab1, sab2)"
   ]
  },
  {
   "cell_type": "markdown",
   "metadata": {},
   "source": [
    "# Condicionales\n",
    "\n",
    "Las condicionales nos permiten validar una condicion en especifico para asi permitir o denegar que python ejecute una instruccion o pase a la siguente.\n",
    "\n",
    "- Mayor >\n",
    "- Menor <\n",
    "- Mayor o igual >=\n",
    "- Menor o igual <=\n",
    "- Es igual == \n",
    "- Diferente !=\n",
    "\n",
    "if (si)\n",
    "elif (sino si)\n",
    "else (sino)"
   ]
  },
  {
   "cell_type": "code",
   "execution_count": 4,
   "metadata": {},
   "outputs": [
    {
     "name": "stdout",
     "output_type": "stream",
     "text": [
      "Es menor, no podes ingresar\n"
     ]
    }
   ],
   "source": [
    "edad = 15\n",
    "\n",
    "if edad >= 18:\n",
    "    print(\"Sos mayor de edad, podes ingresar\") \n",
    "else:\n",
    "    print(\"Es menor, no podes ingresar\")"
   ]
  },
  {
   "cell_type": "code",
   "execution_count": 6,
   "metadata": {},
   "outputs": [
    {
     "name": "stdout",
     "output_type": "stream",
     "text": [
      "Activo laboralmente\n"
     ]
    }
   ],
   "source": [
    "edad_laboral = 25\n",
    "\n",
    "if edad_laboral <= 18:\n",
    "    print(\"Menor de edad, no podes trabajar\")\n",
    "\n",
    "elif edad_laboral > 65:\n",
    "    print(\"Jubilado\")\n",
    "\n",
    "else:\n",
    "    print(\"Activo laboralmente\")\n",
    "\n",
    "\n"
   ]
  },
  {
   "cell_type": "code",
   "execution_count": null,
   "metadata": {},
   "outputs": [],
   "source": [
    "edad_laboral = 25\n",
    "trabaja = True\n",
    "\n",
    "if edad_laboral < 18: #Pregunta si es V o F\n",
    "    print(\"Es menor de edad\")\n",
    "\n",
    "elif edad_laboral < 65 and trabaja == True:\n",
    "    print(\"Activo laboralmente\")\n",
    "\n",
    "elif edad_laboral < 65 and trabaja == False:\n",
    "    print(\"Estudiante\")\n",
    "\n",
    "else:\n",
    "    print('Jubilado')\n",
    "\n"
   ]
  },
  {
   "cell_type": "code",
   "execution_count": 7,
   "metadata": {},
   "outputs": [
    {
     "name": "stdout",
     "output_type": "stream",
     "text": [
      "Activo laboralmente\n"
     ]
    }
   ],
   "source": [
    "def chequear_edad(edad_laboral, trabaja):\n",
    "\n",
    "    if edad_laboral < 18:\n",
    "        print(\"Menor de edad\")\n",
    "\n",
    "    elif edad_laboral < 65 and trabaja == True:\n",
    "        print(\"Activo laboralmente\")\n",
    "\n",
    "    elif edad_laboral < 65 and trabaja == False:\n",
    "        print(\"Estudiante\")\n",
    "    \n",
    "    else:\n",
    "        print(\"Jubilad\") \n",
    "\n",
    "\n",
    "chequear_edad(25, True)"
   ]
  },
  {
   "cell_type": "markdown",
   "metadata": {},
   "source": [
    "### Challenge 🤺 - 20m\n",
    "\n",
    "Escribir un programa en el que se pregunte al usuario por una temperatura (en grados Celsius), imprima la temperatura escrita, y luego clasificar la temperatura ingresada en los siguientes niveles:\n",
    "\n",
    "Entre -10 y 18 grados, que imprima \"Fresquete\".\n",
    "Entre 19 y 30 grados, que imprima \"Calor'i\".\n",
    "Entre 31 y 45 grados, que imprima \"Hakuuuuuu\".\n",
    "Para todo lo demás, imprimir \"Ñamano mba'e!\"."
   ]
  },
  {
   "cell_type": "markdown",
   "metadata": {},
   "source": [
    "Solucion de Thob 🕷️"
   ]
  },
  {
   "cell_type": "code",
   "execution_count": 10,
   "metadata": {},
   "outputs": [
    {
     "name": "stdout",
     "output_type": "stream",
     "text": [
      "Seguis pio vivo?\n"
     ]
    }
   ],
   "source": [
    "Temperatura = int(input(\"Cual es la temperatura ahora? Celsius por fa. No uses Farenheit...\"))\n",
    "\n",
    "if Temperatura >= -10 and Temperatura <= 10:\n",
    "    print(\"ase frio\")\n",
    "elif Temperatura >= 19 and Temperatura <= 30:\n",
    "    print(\"calor'i\")\n",
    "elif Temperatura >=31 and Temperatura <= 45:\n",
    "    print(\"Hakuuuu\")\n",
    "else:\n",
    "    print(\"Seguis pio vivo?\")"
   ]
  },
  {
   "cell_type": "markdown",
   "metadata": {},
   "source": [
    "Solucion de Fio 🧐"
   ]
  },
  {
   "cell_type": "code",
   "execution_count": 12,
   "metadata": {},
   "outputs": [
    {
     "name": "stdout",
     "output_type": "stream",
     "text": [
      "amanota :c\n"
     ]
    }
   ],
   "source": [
    "temperatura_del_ambiente = int(input('ingrese la temperatura'))\n",
    "\n",
    "if -10 <= temperatura_del_ambiente <= 18:\n",
    "    #siempre poner los numeros de la variable de menor a mayor y utilizar <=, >= para incluir a los numeros que condicionan la accion \n",
    "    print('fresquetee')\n",
    "\n",
    "elif 19 <= temperatura_del_ambiente <= 30:\n",
    "    print('calorcito') \n",
    "\n",
    "elif 31 <= temperatura_del_ambiente <= 45:\n",
    "    print('haaaakuuuuu')\n",
    "\n",
    "else:\n",
    "    print('amanota :c')\n",
    "    "
   ]
  },
  {
   "cell_type": "markdown",
   "metadata": {},
   "source": [
    "While nos permite ejecutar una serie de instrucciones mientras una condicion se cumpla. Al momento que la condicion deje de ser cierta el bucle va parar."
   ]
  },
  {
   "cell_type": "code",
   "execution_count": null,
   "metadata": {},
   "outputs": [],
   "source": [
    "numero_a_adivinar = 30\n",
    "numero = 15\n",
    "\n",
    "while numero != numero_a_adivinar:\n",
    "    \n",
    "    print(\"Numero incorrecto\")\n",
    "\n",
    "    numero = int(input(\"Introduce otro numero: \"))\n",
    "    \n",
    "    print(numero)\n",
    "\n",
    "print(\"numero correcto!\")"
   ]
  },
  {
   "cell_type": "markdown",
   "metadata": {},
   "source": [
    "Un bucle infinito sucede cuando la condicion siempre es cierta y por lo tanto el bucle no termina de ejecutarse. \"Break\" es una palabra reservada que nos permite salir de un bucle."
   ]
  },
  {
   "cell_type": "code",
   "execution_count": null,
   "metadata": {},
   "outputs": [],
   "source": [
    "numero = 1\n",
    "\n",
    "while True:\n",
    "\n",
    "    numero_ingresado = int(input(\"Introduce un numero\"))\n",
    "\n",
    "    if numero_ingresado == numero:\n",
    "        print(\"Numero correcto\")\n",
    "        break\n",
    "    \n",
    "    else:\n",
    "        print(\"Numero incorrecto\")"
   ]
  },
  {
   "cell_type": "code",
   "execution_count": null,
   "metadata": {},
   "outputs": [],
   "source": [
    "contraseña_ingresada = input(\"Ingrese la contraseña: \")\n",
    "contraseña_correcta = \"penguin2023\"\n",
    "\n",
    "# if contraseña_ingresada == contraseña_correcta :\n",
    "#     print(\"Contraseña correcta. Bienvenido a Penguin Academy :D\")\n",
    "# else:\n",
    "while contraseña_ingresada != contraseña_correcta :\n",
    "    print(\"Contraseña incorrecta\")\n",
    "    contraseña_ingresada = input(\"Ingrese nuevamente la contraseña: \")\n",
    "    \n",
    "print(\"Contraseña correcta. Bienvenido a Penguin Academy :D\")"
   ]
  },
  {
   "cell_type": "markdown",
   "metadata": {},
   "source": [
    "Solucion de Galy 🦄"
   ]
  },
  {
   "cell_type": "code",
   "execution_count": 2,
   "metadata": {},
   "outputs": [
    {
     "name": "stdout",
     "output_type": "stream",
     "text": [
      "oh No prueba otra vez\n",
      "oh No prueba otra vez\n",
      "oh No prueba otra vez\n",
      "lo lograste\n"
     ]
    }
   ],
   "source": [
    "contraseña = 22\n",
    "ingresar_contraseña = 1\n",
    "\n",
    "while True:\n",
    "    ingresar_contraseña = int(input(\"intriduce un numero\"))\n",
    "\n",
    "    if ingresar_contraseña == contraseña:\n",
    "        print(\"lo lograste\")\n",
    "        break\n",
    "\n",
    "    else:\n",
    "        print(\"oh No prueba otra vez\")"
   ]
  },
  {
   "cell_type": "markdown",
   "metadata": {},
   "source": [
    "## Listas\n",
    "\n",
    "Una lista es una agrupación de objetos, que pueden ser de distintos tipos de datos. Las construimos colocando los elementos entre corchetes [ ] y separados por comas."
   ]
  },
  {
   "cell_type": "code",
   "execution_count": 3,
   "metadata": {},
   "outputs": [
    {
     "name": "stdout",
     "output_type": "stream",
     "text": [
      "Pera\n",
      "['Manzana', 'Pera', 'Banana', 'Sandia', 'Pera']\n",
      "['Manzana', 'Pera', 'Banana', 'Sandia', 'Pera', 'ciruelas']\n",
      "['Manzana', 'Pera', 'Banana', 'Melon', 'Pera', 'ciruelas']\n",
      "['Manzana', 'Banana', 'Melon', 'Pera', 'ciruelas']\n",
      "['Manzana', 'Banana', 'Melon', 'ciruelas']\n",
      "4\n"
     ]
    }
   ],
   "source": [
    "lista_frutas = [\"Manzana\", \"Pera\", \"Banana\", \"Sandia\", \"Pera\"]\n",
    "\n",
    "lista_de_numeros = [1, 2, 4, 6]\n",
    "\n",
    "lista_variadas = [1, \"Pera\", 2.6, True]\n",
    "\n",
    "\n",
    "print(lista_frutas[1])\n",
    "print(lista_frutas)\n",
    "\n",
    "#Agregar elemento al final de la lista\n",
    "lista_frutas.append('ciruelas')\n",
    "print(lista_frutas)\n",
    "\n",
    "#Modificar elementos\n",
    "lista_frutas[3] = \"Melon\"\n",
    "print(lista_frutas)\n",
    "\n",
    "#Eliminar elemento especifico por valor\n",
    "lista_frutas.remove(\"Pera\")\n",
    "print(lista_frutas)\n",
    "\n",
    "#Eliminar elemento por posicion\n",
    "lista_frutas.pop(3)\n",
    "print(lista_frutas)\n",
    "\n",
    "print(len(lista_frutas))"
   ]
  },
  {
   "cell_type": "markdown",
   "metadata": {},
   "source": [
    "### Challenge 🤺 - 20m\n",
    "\n",
    "Crear una lista de 5 elementos. Luego, seguir los siguientes pasos.\n",
    "\n",
    "- Agregar un elemento al final de la lista.\n",
    "\n",
    "- Modificar el segundo elemento.\n",
    "\n",
    "- Eliminar el tercer elemento."
   ]
  },
  {
   "cell_type": "code",
   "execution_count": 4,
   "metadata": {},
   "outputs": [
    {
     "name": "stdout",
     "output_type": "stream",
     "text": [
      "['rojo', 'rosado', 'amarillo', 'negro', 'azul']\n",
      "['rojo', 'rosado', 'amarillo', 'negro', 'azul', 'verde']\n",
      "['rojo', 'blanco', 'amarillo', 'negro', 'azul', 'verde']\n",
      "['rojo', 'blanco', 'negro', 'azul', 'verde']\n",
      "5\n"
     ]
    }
   ],
   "source": [
    "power_rangers = [\"rojo\", \"rosado\", \"amarillo\", \"negro\", \"azul\"]\n",
    "print(power_rangers)\n",
    "\n",
    "power_rangers.append(\"verde\")\n",
    "print(power_rangers)\n",
    "\n",
    "power_rangers[1] = \"blanco\"\n",
    "print(power_rangers)\n",
    "\n",
    "power_rangers.pop(2)\n",
    "print(power_rangers)\n",
    "\n",
    "print(len(power_rangers))"
   ]
  },
  {
   "cell_type": "code",
   "execution_count": null,
   "metadata": {},
   "outputs": [],
   "source": [
    "#lista de los dias de la semana, print para referencia\n",
    "lista = [\"lunes\", \"martes\", \"miercoles\", \"jueves\", \"viernes\"]\n",
    "print(f\"{lista}\")\n",
    "\n",
    "#añadir un nuevo elemento a la lista, print para referencia\n",
    "lista.append(\"sabado\")\n",
    "print(lista)\n",
    "\n",
    "#el segundo elemento corresponde a la posicion 1\n",
    "lista[1] = \"FERIADO\"\n",
    "print(lista)\n",
    "\n",
    "#eliminar el tercer elemento que corresponde a la posicion 2\n",
    "lista.pop(2)\n",
    "print(lista)"
   ]
  },
  {
   "cell_type": "markdown",
   "metadata": {},
   "source": [
    "#Bucle iterativo FOR\n",
    "\n",
    "Iteraciones: una acción repetida una cierta cantidad de veces, pero en cada repetición se tiene en cuenta el valor anterior."
   ]
  },
  {
   "cell_type": "code",
   "execution_count": 5,
   "metadata": {},
   "outputs": [
    {
     "name": "stdout",
     "output_type": "stream",
     "text": [
      "1\n",
      "2\n",
      "3\n",
      "5\n"
     ]
    }
   ],
   "source": [
    "dias_de_la_semana = [1,2,3,5]\n",
    "\n",
    "for x in dias_de_la_semana:\n",
    "\n",
    "    print(x)"
   ]
  },
  {
   "cell_type": "markdown",
   "metadata": {},
   "source": [
    "### Challenge 🤺 - 20m\n",
    "\n",
    "Escribir un programa que itere en un rango de 10 veces. Por cada iteracion multiplicar el iterador por dos e imprimir el resultado."
   ]
  },
  {
   "cell_type": "code",
   "execution_count": 6,
   "metadata": {},
   "outputs": [
    {
     "name": "stdout",
     "output_type": "stream",
     "text": [
      "0\n",
      "2\n",
      "4\n",
      "6\n",
      "8\n",
      "10\n",
      "12\n",
      "14\n",
      "16\n",
      "18\n"
     ]
    }
   ],
   "source": [
    "for mult in range(10):\n",
    "    multiplicacion = mult * 2\n",
    "    print(multiplicacion)"
   ]
  },
  {
   "cell_type": "code",
   "execution_count": 7,
   "metadata": {},
   "outputs": [
    {
     "name": "stdout",
     "output_type": "stream",
     "text": [
      "nike\n",
      "adidas\n",
      "topper\n",
      "delmer\n",
      "6\n"
     ]
    }
   ],
   "source": [
    "marca_ropa = ['nike', 'adidas', 'topper', 'delmer']\n",
    "\n",
    "for marca in marca_ropa:\n",
    "    print(marca)\n",
    "\n",
    "print(len(\"delmer\"))"
   ]
  },
  {
   "cell_type": "markdown",
   "metadata": {},
   "source": [
    "### Challenge 🤺 - 20m\n",
    "\n",
    "Recorrer los elementos de una lista de marcas e imprimir cada marca *__solamente__* si tiene 6 letras o más."
   ]
  },
  {
   "cell_type": "markdown",
   "metadata": {},
   "source": [
    "Solucion de Jaz 💋"
   ]
  },
  {
   "cell_type": "code",
   "execution_count": 8,
   "metadata": {},
   "outputs": [
    {
     "name": "stdout",
     "output_type": "stream",
     "text": [
      "Forever 21\n",
      "Indian\n",
      "Daniel Cassin\n"
     ]
    }
   ],
   "source": [
    "marcas_de_ropas = [\"Forever 21\", \"Zara\", \"Shein\",\"Indian\", \"Daniel Cassin\"]\n",
    "for marca in marcas_de_ropas:\n",
    "    if len(marca) >= 6:\n",
    "        print(marca)"
   ]
  },
  {
   "cell_type": "markdown",
   "metadata": {},
   "source": [
    "### Challenge 🤺 - 15m\n",
    "\n",
    "Solicitar al usuario que ingrese una frase.\n",
    "\n",
    "Imprimir un mensaje cada vez que se encuentre una letra \"o\".\n",
    "\n"
   ]
  },
  {
   "cell_type": "code",
   "execution_count": 9,
   "metadata": {},
   "outputs": [
    {
     "name": "stdout",
     "output_type": "stream",
     "text": [
      "Encontre 3 veces la o\n"
     ]
    }
   ],
   "source": [
    "frase = input(\"Ingrese una frase\")\n",
    "contador = 0\n",
    "\n",
    "for letra in frase:\n",
    "    if letra == 'o':\n",
    "        contador = contador + 1\n",
    "        \n",
    "print(f\"Encontre {contador} veces la o\")"
   ]
  },
  {
   "cell_type": "markdown",
   "metadata": {},
   "source": [
    "## Repaso\n",
    "\n",
    "- VARIABLES\n",
    "- TIPO DE DATOS\n",
    "- OPERACIONES ARITMETICAS\n",
    "- OPERADOR\n",
    "- CONCATENACION\n",
    "- FUNCIONES\n",
    "- INPUTS\n",
    "- BUCLES\n",
    "- LISTAS \n",
    "- CONDICIONALES"
   ]
  }
 ],
 "metadata": {
  "kernelspec": {
   "display_name": "Python 3",
   "language": "python",
   "name": "python3"
  },
  "language_info": {
   "codemirror_mode": {
    "name": "ipython",
    "version": 3
   },
   "file_extension": ".py",
   "mimetype": "text/x-python",
   "name": "python",
   "nbconvert_exporter": "python",
   "pygments_lexer": "ipython3",
   "version": "3.11.6"
  }
 },
 "nbformat": 4,
 "nbformat_minor": 2
}
