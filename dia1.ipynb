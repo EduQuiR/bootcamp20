{
 "cells": [
  {
   "cell_type": "code",
   "execution_count": 1,
   "metadata": {},
   "outputs": [
    {
     "name": "stdout",
     "output_type": "stream",
     "text": [
      "Hola mundo\n"
     ]
    }
   ],
   "source": [
    "print(\"Hola mundo\")"
   ]
  },
  {
   "cell_type": "markdown",
   "metadata": {},
   "source": [
    "# Variable\n",
    "\n",
    "Las variables son espacios en memoria de la computadora en los cuales podemos guardar datos durante la ejecución de nuestro programa.\n"
   ]
  },
  {
   "cell_type": "code",
   "execution_count": 5,
   "metadata": {},
   "outputs": [
    {
     "name": "stdout",
     "output_type": "stream",
     "text": [
      "Jose\n"
     ]
    }
   ],
   "source": [
    "nombre = \"Jose\" # El es igual es un operador de asignacion\n",
    "\n",
    "edad = \"20\"\n",
    "\n",
    "print(nombre)\n",
    "\n",
    "\n",
    "\n"
   ]
  },
  {
   "cell_type": "code",
   "execution_count": 17,
   "metadata": {},
   "outputs": [
    {
     "name": "stdout",
     "output_type": "stream",
     "text": [
      "manzana pera banana manzana pera\n"
     ]
    }
   ],
   "source": [
    "fruta1 = 'manzana'\n",
    "\n",
    "fruta2 = \"pera\"\n",
    "\n",
    "fruta3 = 'banana manzana pera'\n",
    "\n",
    "print(fruta1, fruta2, fruta3 )\n",
    "\n"
   ]
  },
  {
   "cell_type": "markdown",
   "metadata": {},
   "source": [
    "# TIPOS DE DATOS\n"
   ]
  },
  {
   "cell_type": "code",
   "execution_count": 19,
   "metadata": {},
   "outputs": [
    {
     "name": "stdout",
     "output_type": "stream",
     "text": [
      "10\n",
      "3.2\n",
      "Eduardo\n"
     ]
    }
   ],
   "source": [
    "numeros_entero = 10 #Numero entero -> Integer -> int\n",
    "\n",
    "numero_decimal = 3.2 #Numero decimal -> floating -> float\n",
    "\n",
    "texto = \"Eduardo\" # Texto -> strings -> str\n",
    "\n",
    "print(numeros_entero)\n",
    "print(numero_decimal)\n",
    "print(texto)\n",
    "\n"
   ]
  },
  {
   "cell_type": "code",
   "execution_count": 25,
   "metadata": {},
   "outputs": [
    {
     "name": "stdout",
     "output_type": "stream",
     "text": [
      "22\n",
      "0\n"
     ]
    }
   ],
   "source": [
    "suma = 3 + 3 \n",
    "\n",
    "resta = 3 - 3\n",
    "\n",
    "print(suma)\n",
    "print(resta)\n"
   ]
  },
  {
   "cell_type": "code",
   "execution_count": null,
   "metadata": {},
   "outputs": [],
   "source": [
    "700"
   ]
  },
  {
   "cell_type": "code",
   "execution_count": 8,
   "metadata": {},
   "outputs": [
    {
     "name": "stdout",
     "output_type": "stream",
     "text": [
      "32000\n",
      "27000\n",
      "1\n",
      "0\n"
     ]
    }
   ],
   "source": [
    "precio_total = 7000 + 10000 + 15000 #Realizamos una suma\n",
    "print(precio_total) #Imprimimos el resultado \n",
    "\n",
    "total_con_descuento = precio_total - 5000 #Realizamos una resta con la variable definada mas arriba\n",
    "print(total_con_descuento) #Imprimimos el resultado\n",
    "\n",
    "precio_gaseosa = 10000\n",
    "cantidad_de_personas = 3\n",
    "vaquita = precio_gaseosa / cantidad_de_personas #Realizamos una operacion de division\n",
    "print(vaquita)\n",
    "\n",
    "resto = 2%2\n",
    "print(resto)"
   ]
  },
  {
   "cell_type": "markdown",
   "metadata": {},
   "source": [
    "## Tipo de operadores\n",
    "-  SUMA -> +\n",
    "-  RESTA -> -\n",
    "-  DIVISION -> /\n",
    "-  MULTIPLICACION -> *\n",
    "-  DIVISION ENTERA -> // \n",
    "-  RESTO -> %"
   ]
  },
  {
   "cell_type": "markdown",
   "metadata": {},
   "source": [
    "## Challenge 🤺 - 15m\n",
    "\n",
    "Suma: asignar dos números en dos variables diferentes `cantidad_de_manzanas` y `cantidad_de_naranjas`. Luego sumar ambas variables en `cantidad_de_frutas`. Imprimir la última variable.\n",
    "\n",
    "Resta: asignar un valor numérico a la variable `frutas_vendidas`. Luego, asignar la resta entre `cantidad_de_frutas` y `frutas_vendidas` a la variable `frutas_restantes`. Imprimir la última variable."
   ]
  },
  {
   "cell_type": "markdown",
   "metadata": {},
   "source": [
    "Solucion de Abi 😂​"
   ]
  },
  {
   "cell_type": "code",
   "execution_count": 9,
   "metadata": {},
   "outputs": [
    {
     "name": "stdout",
     "output_type": "stream",
     "text": [
      "15\n",
      "10\n"
     ]
    }
   ],
   "source": [
    "cantidad_de_manzanas = 5\n",
    "cantidad_de_naranjas = 10\n",
    "cantidad_de_frutas = cantidad_de_manzanas + cantidad_de_naranjas\n",
    "\n",
    "print(cantidad_de_frutas)\n",
    "\n",
    "frutas_vendidas = 5\n",
    "frutas_restantes = cantidad_de_frutas - frutas_vendidas\n",
    "\n",
    "print(frutas_restantes)"
   ]
  },
  {
   "cell_type": "markdown",
   "metadata": {},
   "source": [
    "Solucion de July 🤓​"
   ]
  },
  {
   "cell_type": "code",
   "execution_count": 10,
   "metadata": {},
   "outputs": [
    {
     "name": "stdout",
     "output_type": "stream",
     "text": [
      "16\n",
      "12\n"
     ]
    }
   ],
   "source": [
    "cantidad_de_manzanas = 10\n",
    "\n",
    "cantidad_de_naranjas = 6\n",
    "\n",
    "cantidad_de_frutas = cantidad_de_manzanas + cantidad_de_naranjas\n",
    "\n",
    "print(cantidad_de_frutas)\n",
    "\n",
    "frutas_vendidas = 4\n",
    "\n",
    "frutas_restantes = cantidad_de_frutas - frutas_vendidas\n",
    "\n",
    "print(frutas_restantes)"
   ]
  },
  {
   "cell_type": "code",
   "execution_count": 13,
   "metadata": {},
   "outputs": [
    {
     "name": "stdout",
     "output_type": "stream",
     "text": [
      "9\n"
     ]
    }
   ],
   "source": [
    "numero = 4\n",
    "numero_2 = 5\n",
    "\n",
    "total = numero + numero_2\n",
    "print(total)"
   ]
  },
  {
   "cell_type": "markdown",
   "metadata": {},
   "source": [
    "# Concatenacion"
   ]
  },
  {
   "cell_type": "code",
   "execution_count": 25,
   "metadata": {},
   "outputs": [
    {
     "name": "stdout",
     "output_type": "stream",
     "text": [
      "EduardoQuinonez\n",
      "Eduardo Quinonez\n",
      "Hola mi nombre es Eduardo Quinonez\n",
      "Hola mi nombre es Eduardo y mi apellido es Quinonez\n"
     ]
    }
   ],
   "source": [
    "nombre = \"Eduardo\"\n",
    "apellido = \"Quinonez\"\n",
    "\n",
    "print(nombre + apellido)# Concatenamos (unimos) nombre y apellido\n",
    "\n",
    "print(nombre + \" \" + apellido) #Volvemos a concatenar pero esta vez con espacio entre los valores\n",
    "\n",
    "print(\"Hola mi nombre es \" + nombre + \" \" + apellido) #Imprimos una oracion y concatenamos con las variables \n",
    "\n",
    "print(f\"Hola mi nombre es {nombre} y mi apellido es {apellido}\") #Utilizamos la f de format para poder insertar nuestras variables en el print"
   ]
  },
  {
   "cell_type": "markdown",
   "metadata": {},
   "source": [
    "## Challenge 🤺 - 15m\n",
    "\n",
    "Asignar el nombre y el apellido de tu compañera/o a las variables nombre y apellido. Luego, imprimir una frase, utilizando las variables.\n",
    "EJEMPLO: \"Hola. Me llamo Claudia Melgarejo. Mucho gusto.\""
   ]
  },
  {
   "cell_type": "markdown",
   "metadata": {},
   "source": [
    "Solucion Joel ​🥵​"
   ]
  },
  {
   "cell_type": "code",
   "execution_count": 26,
   "metadata": {},
   "outputs": [
    {
     "name": "stdout",
     "output_type": "stream",
     "text": [
      "Hola. Me llamo Carlos Ricaldi. Mucho gusto.\n"
     ]
    }
   ],
   "source": [
    "nombre = \"Carlos\"\n",
    "\n",
    "apellido = \"Ricaldi\"\n",
    "\n",
    "print(f\"Hola. Me llamo {nombre} {apellido}. Mucho gusto.\")"
   ]
  },
  {
   "cell_type": "markdown",
   "metadata": {},
   "source": [
    "Solucion Giuliano🐰"
   ]
  },
  {
   "cell_type": "code",
   "execution_count": 27,
   "metadata": {},
   "outputs": [
    {
     "name": "stdout",
     "output_type": "stream",
     "text": [
      "jesus osoria\n",
      "hola me llamo jesus osoria ,me gusta caminar\n"
     ]
    }
   ],
   "source": [
    "nombre = 'jesus'\n",
    "apellido = 'osoria'\n",
    "print(nombre + \" \" + apellido)\n",
    "dato = \",me gusta caminar\"\n",
    "print(f'hola me llamo {nombre} {apellido} {dato}' )\n"
   ]
  },
  {
   "cell_type": "markdown",
   "metadata": {},
   "source": [
    "## Input\n",
    "Python se utiliza para recibir datos desde el usuario a través del teclado. Permite que el programa detenga su ejecución y espere a que el usuario ingrese algún dato antes de continuar. "
   ]
  },
  {
   "cell_type": "code",
   "execution_count": null,
   "metadata": {},
   "outputs": [
    {
     "name": "stdout",
     "output_type": "stream",
     "text": [
      "4\n"
     ]
    }
   ],
   "source": [
    "nombre = input(\"Ingrese su nombre\") #Pedimos al usuario que inrese el daro\n",
    "print(nombre)"
   ]
  },
  {
   "cell_type": "code",
   "execution_count": null,
   "metadata": {},
   "outputs": [
    {
     "name": "stdout",
     "output_type": "stream",
     "text": [
      "huevo\n",
      "12\n"
     ]
    }
   ],
   "source": [
    "un_producto = input(\"Ingrese un producto\")#Solicitamos al usuario que ingrese el dato\n",
    "print(un_producto)\n",
    "\n",
    "cantidad_de_unidades= input(\"Cuantas unidades desea\")\n",
    "print(cantidad_de_unidades)\n",
    "\n",
    "print(un_producto)\n",
    "print(type(un_producto)) #El type nos permite identificar el tipo de dato que contiene nuestra variabel\n",
    "print(type(cantidad_de_unidades))\n"
   ]
  },
  {
   "cell_type": "code",
   "execution_count": 36,
   "metadata": {},
   "outputs": [
    {
     "name": "stdout",
     "output_type": "stream",
     "text": [
      "huevo\n",
      "<class 'str'>\n",
      "<class 'str'>\n"
     ]
    }
   ],
   "source": []
  },
  {
   "cell_type": "code",
   "execution_count": null,
   "metadata": {},
   "outputs": [
    {
     "name": "stdout",
     "output_type": "stream",
     "text": [
      "<class 'float'>\n",
      "5.2\n"
     ]
    }
   ],
   "source": [
    "numero1 = float(input(\"Ingrese un numero a sumar\"))\n",
    "numero = float(input(\"Ingrese un numero a sumar\"))\n",
    "\n",
    "total = numero + numero1\n",
    "print(type(numero1))\n",
    "\n",
    "print(total)"
   ]
  },
  {
   "cell_type": "markdown",
   "metadata": {},
   "source": [
    "### Challenge 🤺 - 15m\n",
    "\n",
    "Solicitar al usuario ingresar dos números y almacenarlos en dos variables. Luego, imprimir la suma de los dos números."
   ]
  },
  {
   "cell_type": "markdown",
   "metadata": {},
   "source": [
    "Solucion de Fram 🐧"
   ]
  },
  {
   "cell_type": "code",
   "execution_count": 71,
   "metadata": {},
   "outputs": [
    {
     "name": "stdout",
     "output_type": "stream",
     "text": [
      "5\n",
      "<class 'int'>\n"
     ]
    }
   ],
   "source": [
    "n1 = int(input(\"Introduce el primer número : \")) #Pido al usuario que ingrese un numero\n",
    "\n",
    "n2 = int(input(\"Introduce el segundo número: \"))\n",
    "\n",
    "suma = n1 + n2 #suma \n",
    "\n",
    "print(suma)\n",
    "\n",
    "print(type(suma))"
   ]
  },
  {
   "cell_type": "markdown",
   "metadata": {},
   "source": [
    "Solucion de Joaquin 🧐"
   ]
  },
  {
   "cell_type": "code",
   "execution_count": 52,
   "metadata": {},
   "outputs": [
    {
     "name": "stdout",
     "output_type": "stream",
     "text": [
      "Quiero comprar 3.0 unidade de huevo\n"
     ]
    }
   ],
   "source": [
    "numero1 = input(\"Que producto desea comprar\")\n",
    "numero2 = float(input(\"Cantidad\"))\n",
    "\n",
    "print(f\"Quiero comprar {numero2} unidade de {numero1}\")"
   ]
  },
  {
   "cell_type": "markdown",
   "metadata": {},
   "source": [
    "# Funciones\n",
    "\n",
    "Las funciones son un conjunto de instrucciones de una operacion que quisieramos volver a repetir en diferentes partes de nuestro programa. \n",
    "\n",
    "Las funciones existen para permitirnos re utilizar codigo que ya escribimos anteriormente, sin la necesidad de volver a escribirlo. "
   ]
  },
  {
   "cell_type": "code",
   "execution_count": 56,
   "metadata": {},
   "outputs": [
    {
     "name": "stdout",
     "output_type": "stream",
     "text": [
      "Remojar la ropa\n",
      "Girar para empezar a lavar\n",
      "enjuagar\n",
      "Expulsar el agua\n",
      "centrifugar la ropa\n",
      "Ropa lista!\n",
      "Remojar la ropa\n",
      "Girar para empezar a lavar\n",
      "enjuagar\n",
      "Expulsar el agua\n",
      "centrifugar la ropa\n",
      "Ropa lista!\n",
      "Remojar la ropa\n",
      "Girar para empezar a lavar\n",
      "enjuagar\n",
      "Expulsar el agua\n",
      "centrifugar la ropa\n",
      "Ropa lista!\n"
     ]
    }
   ],
   "source": [
    "def lavar_ropas(): #Creamos la funcion \n",
    "\n",
    "    print(f\"Remojar la ropa\") #Establecemos los pasos a que va a hacer nuestra lavarropas\n",
    "    print(\"Girar para empezar a lavar\")\n",
    "    print(\"enjuagar\")\n",
    "    print(\"Expulsar el agua\")\n",
    "    print(\"centrifugar la ropa\")\n",
    "    print(\"Ropa lista!\")\n",
    "\n",
    "lavar_ropas()\n",
    "\n",
    "lavar_ropas()\n",
    "\n",
    "lavar_ropas()\n"
   ]
  },
  {
   "cell_type": "markdown",
   "metadata": {},
   "source": [
    "## Challenge 🤺 - 15m\n",
    "\n",
    "Crear una función de un proceso que se les ocurra que tenga varios pasos.\n",
    "Ejecutar la función 3 veces."
   ]
  },
  {
   "cell_type": "markdown",
   "metadata": {},
   "source": [
    "Solucion de Gio ✨​"
   ]
  },
  {
   "cell_type": "code",
   "execution_count": 57,
   "metadata": {},
   "outputs": [
    {
     "name": "stdout",
     "output_type": "stream",
     "text": [
      "conseguir amigos\n",
      "crear un personaje\n",
      "agendar una fecha en la que todos puedan\n",
      "traer snacks\n",
      "jugar la partida\n",
      "conseguir amigos\n",
      "crear un personaje\n",
      "agendar una fecha en la que todos puedan\n",
      "traer snacks\n",
      "jugar la partida\n",
      "conseguir amigos\n",
      "crear un personaje\n",
      "agendar una fecha en la que todos puedan\n",
      "traer snacks\n",
      "jugar la partida\n"
     ]
    }
   ],
   "source": [
    "def tener_una_campaña_de_dungeons_and_dragons(jugadores):\n",
    "    print(\"conseguir amigos\")\n",
    "    print(\"crear un personaje\")\n",
    "    print(\"agendar una fecha en la que todos puedan\")\n",
    "    print(\"traer snacks\")\n",
    "    print(\"jugar la partida\")\n",
    "\n",
    "tener_una_campaña_de_dungeons_and_dragons()\n",
    "\n",
    "tener_una_campaña_de_dungeons_and_dragons()\n",
    "\n",
    "tener_una_campaña_de_dungeons_and_dragons()"
   ]
  },
  {
   "cell_type": "code",
   "execution_count": null,
   "metadata": {},
   "outputs": [],
   "source": [
    "print()"
   ]
  },
  {
   "cell_type": "code",
   "execution_count": 58,
   "metadata": {},
   "outputs": [
    {
     "name": "stdout",
     "output_type": "stream",
     "text": [
      "Pedir un lavarropas de la marca Tokyo\n",
      "pagar\n"
     ]
    }
   ],
   "source": [
    "def comprar_lavorropas(marca):#Parametro \n",
    "\n",
    "    print(f\"Pedir un lavarropas de la marca {marca}\")\n",
    "    print('pagar')\n",
    "\n",
    "comprar_lavorropas(\"Tokyo\")# Argunmento\n",
    "\n",
    "#Global\n",
    "#Local\n",
    "\n",
    "marca = \"Tokyo\""
   ]
  },
  {
   "cell_type": "code",
   "execution_count": 62,
   "metadata": {},
   "outputs": [
    {
     "name": "stdout",
     "output_type": "stream",
     "text": [
      "Pedir un lavarropas de la marca Tokyo\n",
      "pagar\n",
      "Pedir un lavarropas de la marca Midas\n",
      "pagar\n"
     ]
    }
   ],
   "source": [
    "#marca = \"Tokyo\" #Variable global\n",
    "\n",
    "def comprar_lavorropas(marca):\n",
    "   \n",
    "   \n",
    "\n",
    "    print(f\"Pedir un lavarropas de la marca {marca}\")\n",
    "    print('pagar')\n",
    "\n",
    "\n",
    "marca = \"Tokyo\"\n",
    "\n",
    "comprar_lavorropas(marca)\n",
    "\n",
    "marca = \"Midas\"\n",
    "\n",
    "comprar_lavorropas(marca)\n"
   ]
  },
  {
   "cell_type": "code",
   "execution_count": 70,
   "metadata": {},
   "outputs": [
    {
     "name": "stdout",
     "output_type": "stream",
     "text": [
      "11\n"
     ]
    }
   ],
   "source": [
    "def sumar(numero, numero1):\n",
    "\n",
    "\n",
    "    total = numero + numero1\n",
    "\n",
    "    print(total)\n",
    "\n",
    "\n",
    "numero = int(input(\"Ingrese un numero a sumar\"))\n",
    "numero1 = int(input(\"Ingrese otro numero a sumar\"))\n",
    "\n",
    "sumar(numero, numero1)"
   ]
  },
  {
   "cell_type": "markdown",
   "metadata": {},
   "source": [
    "## Challenge 🤺 - 10m\n",
    "\n",
    "Escribir una funcion que nos pregunte las caracteriticas de un elemento a comprar e imprima el elemento con sus caracteristicas."
   ]
  }
 ],
 "metadata": {
  "kernelspec": {
   "display_name": "Python 3",
   "language": "python",
   "name": "python3"
  },
  "language_info": {
   "codemirror_mode": {
    "name": "ipython",
    "version": 3
   },
   "file_extension": ".py",
   "mimetype": "text/x-python",
   "name": "python",
   "nbconvert_exporter": "python",
   "pygments_lexer": "ipython3",
   "version": "3.11.6"
  }
 },
 "nbformat": 4,
 "nbformat_minor": 2
}
